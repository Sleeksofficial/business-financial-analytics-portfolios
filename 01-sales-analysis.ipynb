{
 "cells": [
  {
   "cell_type": "markdown",
   "metadata": {},
   "source": [
    "# 📊 Sales Performance Analysis\n",
    "**Author:** Oloruntoba Anate  
",
    "**Objective:** Analyze sales performance across regions, products, and time. Identify trends, top performers, and growth areas."
   ]
  },
  {
   "cell_type": "code",
   "metadata": {},
   "source": [
    "import pandas as pd\n",
    "import matplotlib.pyplot as plt\n",
    "import seaborn as sns\n",
    "sns.set(style='whitegrid')"
   ]
  },
  {
   "cell_type": "code",
   "metadata": {},
   "source": [
    "data = pd.read_csv('../data/raw/sales_data.csv')\n",
    "data.dropna(inplace=True)\n",
    "data['Order Date'] = pd.to_datetime(data['Order Date'])\n",
    "data['Month'] = data['Order Date'].dt.to_period('M')"
   ]
  },
  {
   "cell_type": "code",
   "metadata": {},
   "source": [
    "sales_by_region = data.groupby('Region')['Sales'].sum().sort_values(ascending=False)\n",
    "sales_by_region.plot(kind='bar', title='Total Sales by Region', color='skyblue')\n",
    "plt.ylabel('Sales ($)')\n",
    "plt.show()"
   ]
  },
  {
   "cell_type": "markdown",
   "metadata": {},
   "source": [
    "## 💡 Insights\n",
    "- Region X is the highest contributor to sales.\n",
    "- Focus on high-performing months and top products."
   ]
  }
 ],
 "metadata": {},
 "nbformat": 4,
 "nbformat_minor": 5
}
