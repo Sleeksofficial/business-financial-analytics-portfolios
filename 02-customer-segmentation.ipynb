{
 "cells": [
  {
   "cell_type": "markdown",
   "metadata": {},
   "source": [
    "# 🧠 Customer Segmentation using K-Means Clustering\n",
    "**Author:** Oloruntoba Anate  
",
    "**Objective:** Segment customers to tailor marketing strategies and improve retention."
   ]
  },
  {
   "cell_type": "code",
   "metadata": {},
   "source": [
    "import pandas as pd\n",
    "from sklearn.cluster import KMeans\n",
    "import matplotlib.pyplot as plt\n",
    "import seaborn as sns\n",
    "sns.set(style='white')"
   ]
  },
  {
   "cell_type": "code",
   "metadata": {},
   "source": [
    "data = pd.read_csv('../data/raw/customers.csv')\n",
    "X = data[['Annual Income (k$)', 'Spending Score (1-100)']]\n",
    "kmeans = KMeans(n_clusters=4, random_state=0)\n",
    "data['Segment'] = kmeans.fit_predict(X)"
   ]
  },
  {
   "cell_type": "code",
   "metadata": {},
   "source": [
    "plt.figure(figsize=(8,6))\n",
    "sns.scatterplot(data=data, x='Annual Income (k$)', y='Spending Score (1-100)', hue='Segment', palette='Set2')\n",
    "plt.title('Customer Segmentation')\n",
    "plt.show()"
   ]
  },
  {
   "cell_type": "markdown",
   "metadata": {},
   "source": [
    "## 💡 Insights\n",
    "- High spenders with low income can be offered budget-friendly upgrades.\n",
    "- High income, low spenders may need incentive-based campaigns."
   ]
  }
 ],
 "metadata": {},
 "nbformat": 4,
 "nbformat_minor": 5
}
