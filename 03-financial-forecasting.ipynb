{
 "cells": [
  {
   "cell_type": "markdown",
   "id": "66dcfa88",
   "metadata": {},
   "source": [
    "# 📈 Financial Forecasting with Prophet\n",
    "**Author:** Oloruntoba Anate  \n",
    "**Objective:** Forecast future revenue trends using time series analysis with Prophet."
   ]
  },
  {
   "cell_type": "code",
   "execution_count": null,
   "id": "7dca0bcc",
   "metadata": {},
   "outputs": [],
   "source": [
    "import pandas as pd\n",
    "from prophet import Prophet\n",
    "import matplotlib.pyplot as plt"
   ]
  },
  {
   "cell_type": "code",
   "execution_count": null,
   "id": "c8bff853",
   "metadata": {},
   "outputs": [],
   "source": [
    "# Load revenue data\n",
    "data = pd.read_csv('../data/raw/revenue.csv')\n",
    "data['ds'] = pd.to_datetime(data['Date'])\n",
    "data['y'] = data['Revenue']\n",
    "df = data[['ds', 'y']]"
   ]
  },
  {
   "cell_type": "code",
   "execution_count": null,
   "id": "5ab8a081",
   "metadata": {},
   "outputs": [],
   "source": [
    "# Create and fit the model\n",
    "model = Prophet()\n",
    "model.fit(df)\n",
    "future = model.make_future_dataframe(periods=12, freq='M')\n",
    "forecast = model.predict(future)"
   ]
  },
  {
   "cell_type": "code",
   "execution_count": null,
   "id": "698a9e1d",
   "metadata": {},
   "outputs": [],
   "source": [
    "# Plot forecast\n",
    "fig1 = model.plot(forecast)\n",
    "plt.title('Financial Forecast for Next 12 Months')\n",
    "plt.show()"
   ]
  },
  {
   "cell_type": "markdown",
   "id": "d30f2406",
   "metadata": {},
   "source": [
    "## 💡 Insights\n",
    "- Revenue is expected to increase steadily.\n",
    "- Plan investment and marketing budgets accordingly."
   ]
  }
 ],
 "metadata": {},
 "nbformat": 4,
 "nbformat_minor": 5
}
